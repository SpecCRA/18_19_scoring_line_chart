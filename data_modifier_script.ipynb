{
 "cells": [
  {
   "cell_type": "code",
   "execution_count": 1,
   "metadata": {},
   "outputs": [],
   "source": [
    "import pandas as pd\n",
    "import numpy as np"
   ]
  },
  {
   "cell_type": "code",
   "execution_count": 2,
   "metadata": {},
   "outputs": [],
   "source": [
    "file = \"/Users/mini/d3js_projects/project02-nba-scoring/2018_19_game_pts_data.csv\"\n",
    "df = pd.read_csv(file)"
   ]
  },
  {
   "cell_type": "code",
   "execution_count": 3,
   "metadata": {},
   "outputs": [
    {
     "data": {
      "text/html": [
       "<div>\n",
       "<style scoped>\n",
       "    .dataframe tbody tr th:only-of-type {\n",
       "        vertical-align: middle;\n",
       "    }\n",
       "\n",
       "    .dataframe tbody tr th {\n",
       "        vertical-align: top;\n",
       "    }\n",
       "\n",
       "    .dataframe thead th {\n",
       "        text-align: right;\n",
       "    }\n",
       "</style>\n",
       "<table border=\"1\" class=\"dataframe\">\n",
       "  <thead>\n",
       "    <tr style=\"text-align: right;\">\n",
       "      <th></th>\n",
       "      <th>Unnamed: 0</th>\n",
       "      <th>team_name</th>\n",
       "      <th>date</th>\n",
       "      <th>points</th>\n",
       "    </tr>\n",
       "  </thead>\n",
       "  <tbody>\n",
       "    <tr>\n",
       "      <th>0</th>\n",
       "      <td>0</td>\n",
       "      <td>Golden State Warriors</td>\n",
       "      <td>2018-10-16</td>\n",
       "      <td>108</td>\n",
       "    </tr>\n",
       "    <tr>\n",
       "      <th>1</th>\n",
       "      <td>1</td>\n",
       "      <td>Oklahoma City Thunder</td>\n",
       "      <td>2018-10-16</td>\n",
       "      <td>100</td>\n",
       "    </tr>\n",
       "    <tr>\n",
       "      <th>2</th>\n",
       "      <td>2</td>\n",
       "      <td>Philadelphia 76ers</td>\n",
       "      <td>2018-10-16</td>\n",
       "      <td>87</td>\n",
       "    </tr>\n",
       "    <tr>\n",
       "      <th>3</th>\n",
       "      <td>3</td>\n",
       "      <td>Boston Celtics</td>\n",
       "      <td>2018-10-16</td>\n",
       "      <td>105</td>\n",
       "    </tr>\n",
       "    <tr>\n",
       "      <th>4</th>\n",
       "      <td>4</td>\n",
       "      <td>Minnesota Timberwolves</td>\n",
       "      <td>2018-10-17</td>\n",
       "      <td>108</td>\n",
       "    </tr>\n",
       "  </tbody>\n",
       "</table>\n",
       "</div>"
      ],
      "text/plain": [
       "   Unnamed: 0               team_name        date  points\n",
       "0           0   Golden State Warriors  2018-10-16     108\n",
       "1           1   Oklahoma City Thunder  2018-10-16     100\n",
       "2           2      Philadelphia 76ers  2018-10-16      87\n",
       "3           3          Boston Celtics  2018-10-16     105\n",
       "4           4  Minnesota Timberwolves  2018-10-17     108"
      ]
     },
     "execution_count": 3,
     "metadata": {},
     "output_type": "execute_result"
    }
   ],
   "source": [
    "df.head()"
   ]
  },
  {
   "cell_type": "code",
   "execution_count": 6,
   "metadata": {},
   "outputs": [
    {
     "data": {
      "text/html": [
       "<div>\n",
       "<style scoped>\n",
       "    .dataframe tbody tr th:only-of-type {\n",
       "        vertical-align: middle;\n",
       "    }\n",
       "\n",
       "    .dataframe tbody tr th {\n",
       "        vertical-align: top;\n",
       "    }\n",
       "\n",
       "    .dataframe thead th {\n",
       "        text-align: right;\n",
       "    }\n",
       "</style>\n",
       "<table border=\"1\" class=\"dataframe\">\n",
       "  <thead>\n",
       "    <tr style=\"text-align: right;\">\n",
       "      <th></th>\n",
       "      <th>Unnamed: 0</th>\n",
       "      <th>team_name</th>\n",
       "      <th>date</th>\n",
       "      <th>points</th>\n",
       "    </tr>\n",
       "  </thead>\n",
       "  <tbody>\n",
       "    <tr>\n",
       "      <th>3</th>\n",
       "      <td>3</td>\n",
       "      <td>Boston Celtics</td>\n",
       "      <td>2018-10-16</td>\n",
       "      <td>105</td>\n",
       "    </tr>\n",
       "    <tr>\n",
       "      <th>44</th>\n",
       "      <td>44</td>\n",
       "      <td>Boston Celtics</td>\n",
       "      <td>2018-10-19</td>\n",
       "      <td>101</td>\n",
       "    </tr>\n",
       "    <tr>\n",
       "      <th>56</th>\n",
       "      <td>56</td>\n",
       "      <td>Boston Celtics</td>\n",
       "      <td>2018-10-20</td>\n",
       "      <td>103</td>\n",
       "    </tr>\n",
       "    <tr>\n",
       "      <th>83</th>\n",
       "      <td>83</td>\n",
       "      <td>Boston Celtics</td>\n",
       "      <td>2018-10-22</td>\n",
       "      <td>90</td>\n",
       "    </tr>\n",
       "    <tr>\n",
       "      <th>131</th>\n",
       "      <td>131</td>\n",
       "      <td>Boston Celtics</td>\n",
       "      <td>2018-10-25</td>\n",
       "      <td>101</td>\n",
       "    </tr>\n",
       "  </tbody>\n",
       "</table>\n",
       "</div>"
      ],
      "text/plain": [
       "     Unnamed: 0       team_name        date  points\n",
       "3             3  Boston Celtics  2018-10-16     105\n",
       "44           44  Boston Celtics  2018-10-19     101\n",
       "56           56  Boston Celtics  2018-10-20     103\n",
       "83           83  Boston Celtics  2018-10-22      90\n",
       "131         131  Boston Celtics  2018-10-25     101"
      ]
     },
     "execution_count": 6,
     "metadata": {},
     "output_type": "execute_result"
    }
   ],
   "source": [
    "df_celts = df[df.team_name == \"Boston Celtics\"]\n",
    "df_celts.head()"
   ]
  },
  {
   "cell_type": "code",
   "execution_count": 7,
   "metadata": {},
   "outputs": [],
   "source": [
    "celts_filename = \"2018_19_celtics_pts_data.csv\"\n",
    "df_celts.to_csv(celts_filename)"
   ]
  },
  {
   "cell_type": "code",
   "execution_count": 10,
   "metadata": {},
   "outputs": [
    {
     "data": {
      "text/plain": [
       "array(['Golden State Warriors', 'Oklahoma City Thunder',\n",
       "       'Philadelphia 76ers', 'Boston Celtics', 'Minnesota Timberwolves',\n",
       "       'San Antonio Spurs', 'Atlanta Hawks', 'New York Knicks',\n",
       "       'Phoenix Suns', 'Dallas Mavericks', 'New Orleans Pelicans',\n",
       "       'Houston Rockets', 'Miami Heat', 'Orlando Magic', 'Denver Nuggets',\n",
       "       'LA Clippers', 'Brooklyn Nets', 'Detroit Pistons',\n",
       "       'Indiana Pacers', 'Memphis Grizzlies', 'Sacramento Kings',\n",
       "       'Utah Jazz', 'Milwaukee Bucks', 'Charlotte Hornets',\n",
       "       'Toronto Raptors', 'Cleveland Cavaliers', 'Chicago Bulls',\n",
       "       'Portland Trail Blazers', 'Los Angeles Lakers',\n",
       "       'Washington Wizards'], dtype=object)"
      ]
     },
     "execution_count": 10,
     "metadata": {},
     "output_type": "execute_result"
    }
   ],
   "source": [
    "df.team_name.unique()"
   ]
  }
 ],
 "metadata": {
  "kernelspec": {
   "display_name": "Python 3",
   "language": "python",
   "name": "python3"
  },
  "language_info": {
   "codemirror_mode": {
    "name": "ipython",
    "version": 3
   },
   "file_extension": ".py",
   "mimetype": "text/x-python",
   "name": "python",
   "nbconvert_exporter": "python",
   "pygments_lexer": "ipython3",
   "version": "3.6.9"
  }
 },
 "nbformat": 4,
 "nbformat_minor": 2
}
